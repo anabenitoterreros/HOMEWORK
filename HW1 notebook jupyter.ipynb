{
 "cells": [
  {
   "cell_type": "code",
   "execution_count": 34,
   "metadata": {},
   "outputs": [
    {
     "name": "stdout",
     "output_type": "stream",
     "text": [
      "The sum is 215\n",
      "The smallest value is <built-in function min>\n",
      "The largest value is <built-in function max>\n"
     ]
    }
   ],
   "source": [
    "#problem 2.a\n",
    "list_a = [3, 4, 6, 10, 39, 87, 12, 54]\n",
    "sum = 0\n",
    "\n",
    "for val in list_a:\n",
    "    sum = sum + val\n",
    "print (\"The sum is\",sum)\n",
    "\n",
    "\n"
   ]
  },
  {
   "cell_type": "code",
   "execution_count": 42,
   "metadata": {},
   "outputs": [
    {
     "name": "stdout",
     "output_type": "stream",
     "text": [
      "The smallest value is 3\n"
     ]
    }
   ],
   "source": [
    "#problem 2.a\n",
    "min (list_a)\n",
    "print (\"The smallest value is\", min(list_a))\n"
   ]
  },
  {
   "cell_type": "code",
   "execution_count": 43,
   "metadata": {},
   "outputs": [
    {
     "name": "stdout",
     "output_type": "stream",
     "text": [
      "The largest value is 87\n"
     ]
    }
   ],
   "source": [
    "#problem 2.a\n",
    "max (list_a)\n",
    "print (\"The largest value is\", max(list_a))"
   ]
  },
  {
   "cell_type": "code",
   "execution_count": 44,
   "metadata": {},
   "outputs": [
    {
     "name": "stdout",
     "output_type": "stream",
     "text": [
      "[3, 4, 6, 10, 12, 39, 54, 87]\n"
     ]
    }
   ],
   "source": [
    "#problem 2.b\n",
    "list_a.sort(reverse=False)\n",
    "print(list_a)"
   ]
  },
  {
   "cell_type": "code",
   "execution_count": 45,
   "metadata": {},
   "outputs": [
    {
     "name": "stdout",
     "output_type": "stream",
     "text": [
      "[87, 54, 39, 12, 10, 6, 4, 3]\n"
     ]
    }
   ],
   "source": [
    "#problem 2.b\n",
    "list_a.sort(reverse=True)\n",
    "print(list_a)"
   ]
  },
  {
   "cell_type": "code",
   "execution_count": 47,
   "metadata": {},
   "outputs": [
    {
     "name": "stdout",
     "output_type": "stream",
     "text": [
      "87\n",
      "54\n",
      "39\n",
      "12\n",
      "10\n",
      "6\n",
      "4\n",
      "3\n"
     ]
    }
   ],
   "source": [
    "#problem 2.c\n",
    "for x in range(len(list_a)):\n",
    "    print (list_a[x])\n"
   ]
  },
  {
   "cell_type": "code",
   "execution_count": 49,
   "metadata": {},
   "outputs": [
    {
     "name": "stdout",
     "output_type": "stream",
     "text": [
      "the number is prime\n"
     ]
    }
   ],
   "source": [
    "#exercise 3.a.\n",
    "\n",
    "num = int(input(\"please enter the number you want to check\\n\"))\n",
    "\n",
    "if num > 1:\n",
    "   \n",
    "        if (num % i) == 0:\n",
    "            print(\"the number is not prime\")\n",
    "           \n",
    "        else:\n",
    "            print(\"the number is prime\")\n",
    "elif(num == 1):\n",
    "    print(\"the number is not prime\")\n",
    "else:\n",
    "    print('enter a positive value')"
   ]
  },
  {
   "cell_type": "code",
   "execution_count": 53,
   "metadata": {},
   "outputs": [
    {
     "name": "stdout",
     "output_type": "stream",
     "text": [
      "The number 2 is prime\n",
      "The number 3 is prime\n",
      "The number 5 is prime\n",
      "The number 7 is prime\n",
      "The number 11 is prime\n",
      "The number 13 is prime\n",
      "The number 17 is prime\n",
      "The number 19 is prime\n",
      "The number 23 is prime\n",
      "The number 29 is prime\n",
      "The number 31 is prime\n",
      "The number 37 is prime\n",
      "The number 41 is prime\n",
      "The number 43 is prime\n",
      "The number 47 is prime\n",
      "The number 53 is prime\n",
      "The number 59 is prime\n",
      "The number 61 is prime\n",
      "The number 67 is prime\n",
      "The number 71 is prime\n",
      "The number 73 is prime\n",
      "The number 79 is prime\n",
      "The number 83 is prime\n",
      "The number 89 is prime\n",
      "The number 97 is prime\n"
     ]
    }
   ],
   "source": [
    "#excercise 3.b\n",
    "\n",
    "count = 0\n",
    "\n",
    "while(count <= 20):\n",
    "    for i in range(2, 100):\n",
    "        for j in range(2, i):\n",
    "            if i < j:\n",
    "                print(\"The number\",i,\"is prime\")\n",
    "            elif i % j == 0:\n",
    "                break\n",
    "        else:\n",
    "            print(\"The number\",i,\"is prime\")\n",
    "            count = count + 1\n",
    "            "
   ]
  },
  {
   "cell_type": "code",
   "execution_count": 50,
   "metadata": {},
   "outputs": [],
   "source": [
    "#excercise 3.c\n",
    "def FindPrimenumbers(n):\n",
    "   if n>1:\n",
    "    for i in range (2,n):\n",
    "\n",
    "       if (n%i)==0:\n",
    "           return False\n",
    "           break\n",
    "       else:\n",
    "           return True\n",
    "   else:\n",
    "        return False\n"
   ]
  },
  {
   "cell_type": "code",
   "execution_count": 51,
   "metadata": {},
   "outputs": [
    {
     "ename": "SyntaxError",
     "evalue": "invalid syntax (896689346.py, line 4)",
     "output_type": "error",
     "traceback": [
      "\u001b[1;36m  File \u001b[1;32m\"C:\\Users\\Ana Benito Terreros\\AppData\\Local\\Temp\\ipykernel_7956\\896689346.py\"\u001b[1;36m, line \u001b[1;32m4\u001b[0m\n\u001b[1;33m    primenumbers =\u001b[0m\n\u001b[1;37m                   ^\u001b[0m\n\u001b[1;31mSyntaxError\u001b[0m\u001b[1;31m:\u001b[0m invalid syntax\n"
     ]
    }
   ],
   "source": [
    "#excercise 3.d\n",
    "\n",
    "primes = FindPrimenumbers(1000)\n",
    "primenumbers = \n",
    "print (\"prime numbers until 1000:\", primenumbers)"
   ]
  },
  {
   "cell_type": "code",
   "execution_count": 40,
   "metadata": {},
   "outputs": [
    {
     "name": "stdout",
     "output_type": "stream",
     "text": [
      "[2, 3, 5, 7, 11, 13, 17, 19, 23, 29, 31, 37, 41, 43, 47, 53, 59, 61, 67, 71, 73, 79, 83, 89, 97, 101, 103, 107, 109, 113, 127, 131, 137, 139, 149, 151, 157, 163, 167, 173, 179, 181, 191, 193, 197, 199, 211, 223, 227, 229, 233, 239, 241, 251, 257, 263, 269, 271, 277, 281, 283, 293, 307, 311, 313, 317, 331, 337, 347, 349, 353, 359, 367, 373, 379, 383, 389, 397, 401, 409, 419, 421, 431, 433, 439, 443, 449, 457, 461, 463, 467, 479, 487, 491, 499, 503, 509, 521, 523, 541, 547, 557, 563, 569, 571, 577, 587, 593, 599, 601, 607, 613, 617, 619, 631, 641, 643, 647, 653, 659, 661, 673, 677, 683, 691, 701, 709, 719, 727, 733, 739, 743, 751, 757, 761, 769, 773, 787, 797, 809, 811, 821, 823, 827, 829, 839, 853, 857, 859, 863, 877, 881, 883, 887, 907, 911, 919, 929, 937, 941, 947, 953, 967, 971, 977, 983, 991, 997]\n"
     ]
    }
   ],
   "source": [
    "#excercise 3 c\n",
    "def genprimes(limit):  \n",
    "                      \n",
    "    D = {}            \n",
    "    q = 2\n",
    "\n",
    "    while q <= limit:\n",
    "        if q not in D:\n",
    "            yield q\n",
    "            D[q * q] = [q]\n",
    "        else:\n",
    "            for p in D[q]:\n",
    "                D.setdefault(p + q, []).append(p)\n",
    "            del D[q]\n",
    "        q += 1\n",
    "\n",
    "#excercise 3.d\n",
    "\n",
    "p = genprimes(1000)\n",
    "prms = [i for i in p]\n",
    "\n",
    "print (prms)"
   ]
  },
  {
   "cell_type": "code",
   "execution_count": null,
   "metadata": {},
   "outputs": [],
   "source": [
    "#exceercise 4.a\n",
    "myarray.shape == (n, 3, 3)\n",
    "#exceercise 4.b\n",
    "n=5\n",
    "#exceercise 4.c\n",
    "n=10"
   ]
  },
  {
   "cell_type": "code",
   "execution_count": 55,
   "metadata": {},
   "outputs": [
    {
     "name": "stdout",
     "output_type": "stream",
     "text": [
      "[0. 0. 0. 0. 0. 0.]\n"
     ]
    }
   ],
   "source": [
    "import numpy as np\n",
    "array = np.linspace(0, 5, 6)\n",
    "f2 = lambda x: np.zeros_like(x)\n",
    "print(f2(array))"
   ]
  },
  {
   "cell_type": "code",
   "execution_count": 64,
   "metadata": {},
   "outputs": [
    {
     "ename": "NameError",
     "evalue": "name 'return_array' is not defined",
     "output_type": "error",
     "traceback": [
      "\u001b[1;31m---------------------------------------------------------------------------\u001b[0m",
      "\u001b[1;31mNameError\u001b[0m                                 Traceback (most recent call last)",
      "\u001b[1;32m~\\AppData\\Local\\Temp\\ipykernel_7956\\559765082.py\u001b[0m in \u001b[0;36m<module>\u001b[1;34m\u001b[0m\n\u001b[0;32m      6\u001b[0m \u001b[1;31m#print (matrix)\u001b[0m\u001b[1;33m\u001b[0m\u001b[1;33m\u001b[0m\u001b[0m\n\u001b[0;32m      7\u001b[0m \u001b[1;33m\u001b[0m\u001b[0m\n\u001b[1;32m----> 8\u001b[1;33m \u001b[0marray_3D\u001b[0m\u001b[1;33m(\u001b[0m\u001b[1;36m10\u001b[0m\u001b[1;33m)\u001b[0m\u001b[1;33m\u001b[0m\u001b[1;33m\u001b[0m\u001b[0m\n\u001b[0m\u001b[0;32m      9\u001b[0m \u001b[0mprint\u001b[0m\u001b[1;33m(\u001b[0m\u001b[0mreturn_array\u001b[0m\u001b[1;33m)\u001b[0m\u001b[1;33m\u001b[0m\u001b[1;33m\u001b[0m\u001b[0m\n",
      "\u001b[1;32m~\\AppData\\Local\\Temp\\ipykernel_7956\\559765082.py\u001b[0m in \u001b[0;36marray_3D\u001b[1;34m(n)\u001b[0m\n\u001b[0;32m      1\u001b[0m \u001b[1;32mdef\u001b[0m \u001b[0marray_3D\u001b[0m\u001b[1;33m(\u001b[0m\u001b[0mn\u001b[0m\u001b[1;33m)\u001b[0m\u001b[1;33m:\u001b[0m\u001b[1;33m\u001b[0m\u001b[1;33m\u001b[0m\u001b[0m\n\u001b[0;32m      2\u001b[0m     \u001b[1;32mimport\u001b[0m \u001b[0mnumpy\u001b[0m \u001b[1;32mas\u001b[0m \u001b[0mnp\u001b[0m\u001b[1;33m\u001b[0m\u001b[1;33m\u001b[0m\u001b[0m\n\u001b[1;32m----> 3\u001b[1;33m     \u001b[1;32mreturn\u001b[0m \u001b[0mreturn_array\u001b[0m\u001b[1;33m\u001b[0m\u001b[1;33m\u001b[0m\u001b[0m\n\u001b[0m\u001b[0;32m      4\u001b[0m \u001b[1;33m\u001b[0m\u001b[0m\n\u001b[0;32m      5\u001b[0m \u001b[0mmatrix\u001b[0m\u001b[1;33m=\u001b[0m \u001b[0mnp\u001b[0m\u001b[1;33m.\u001b[0m\u001b[0marray\u001b[0m\u001b[1;33m(\u001b[0m\u001b[1;33m[\u001b[0m\u001b[1;33m[\u001b[0m\u001b[1;33m[\u001b[0m\u001b[1;36m1\u001b[0m\u001b[1;33m,\u001b[0m\u001b[1;36m2\u001b[0m\u001b[1;33m,\u001b[0m\u001b[1;36m3\u001b[0m\u001b[1;33m]\u001b[0m\u001b[1;33m,\u001b[0m\u001b[1;33m[\u001b[0m\u001b[1;36m4\u001b[0m\u001b[1;33m,\u001b[0m\u001b[1;36m5\u001b[0m\u001b[1;33m,\u001b[0m\u001b[1;36m6\u001b[0m\u001b[1;33m]\u001b[0m\u001b[1;33m]\u001b[0m\u001b[1;33m,\u001b[0m\u001b[1;33m[\u001b[0m\u001b[1;33m[\u001b[0m\u001b[1;36m7\u001b[0m\u001b[1;33m,\u001b[0m\u001b[1;36m8\u001b[0m\u001b[1;33m,\u001b[0m\u001b[1;36m9\u001b[0m\u001b[1;33m]\u001b[0m\u001b[1;33m,\u001b[0m\u001b[1;33m[\u001b[0m\u001b[1;36m10\u001b[0m\u001b[1;33m,\u001b[0m\u001b[1;36m11\u001b[0m\u001b[1;33m,\u001b[0m\u001b[1;36m12\u001b[0m\u001b[1;33m]\u001b[0m\u001b[1;33m]\u001b[0m\u001b[1;33m]\u001b[0m\u001b[1;33m)\u001b[0m\u001b[1;33m\u001b[0m\u001b[1;33m\u001b[0m\u001b[0m\n",
      "\u001b[1;31mNameError\u001b[0m: name 'return_array' is not defined"
     ]
    }
   ],
   "source": [
    "def array_3D(n):\n",
    "    import numpy as np\n",
    "    return return_array\n",
    "\n",
    "matrix= np.array([[[1,2,3],[4,5,6]],[[7,8,9],[10,11,12]]])\n",
    "#print (matrix)\n",
    "\n",
    "array_3D(10)\n",
    "print(return_array)"
   ]
  },
  {
   "cell_type": "code",
   "execution_count": 65,
   "metadata": {},
   "outputs": [],
   "source": [
    "a = np.zeros((2, 3, 4))\n",
    "a\n",
    "array([[[ 0.,  0.,  0.,  0.],\n",
    "        [ 0.,  0.,  0.,  0.],\n",
    "        [ 0.,  0.,  0.,  0.]],\n",
    "\n",
    "       [[ 0.,  0.,  0.,  0.],\n",
    "        [ 0.,  0.,  0.,  0.],\n",
    "        [ 0.,  0.,  0.,  0.]]])"
   ]
  },
  {
   "cell_type": "code",
   "execution_count": null,
   "metadata": {},
   "outputs": [],
   "source": [
    "np.zeros(2)\n",
    "array([0., 0.])"
   ]
  },
  {
   "cell_type": "code",
   "execution_count": 57,
   "metadata": {},
   "outputs": [
    {
     "name": "stdout",
     "output_type": "stream",
     "text": [
      "[[-1.7]\n",
      " [ 1.9]\n",
      " [-1.5]]\n"
     ]
    }
   ],
   "source": [
    "#exercise 5\n",
    "import numpy as np\n",
    "A=np.matrix([\n",
    "            [3, 4, -5],\n",
    "            [0, 5, 1],\n",
    "            [1, 3, 6]\n",
    "        ])\n",
    "B=np.matrix([\n",
    "            [10],\n",
    "            [8],\n",
    "            [-5]\n",
    "])\n",
    "x=np.dot(np.linalg.inv(A),B)\n",
    "print(x)"
   ]
  },
  {
   "cell_type": "code",
   "execution_count": 104,
   "metadata": {},
   "outputs": [
    {
     "data": {
      "text/plain": [
       "(-5.0, 5.0)"
      ]
     },
     "execution_count": 104,
     "metadata": {},
     "output_type": "execute_result"
    },
    {
     "data": {
      "image/png": "[encoded data removed]",
      "text/plain": [
       "<Figure size 640x480 with 1 Axes>"
      ]
     },
     "metadata": {},
     "output_type": "display_data"
    }
   ],
   "source": [
    "#excercise 6\n",
    "import numpy as np\n",
    "import matplotlib.pyplot as plt\n",
    "#y = 0.1x^3-x^2+5\n",
    "a=0.1; b=1; c=5\n",
    "x = np.linspace(-5, 5, 20)\n",
    "y = a*x**3 - b*x**2 + c\n",
    "\n",
    "#plot\n",
    "plt.plot(x, y)\n",
    "plt.xlabel('x')\n",
    "plt.ylabel('y')\n",
    "plt.xlim([-5, 5])"
   ]
  }
 ],
 "metadata": {
  "kernelspec": {
   "display_name": "base",
   "language": "python",
   "name": "python3"
  },
  "language_info": {
   "codemirror_mode": {
    "name": "ipython",
    "version": 3
   },
   "file_extension": ".py",
   "mimetype": "text/x-python",
   "name": "python",
   "nbconvert_exporter": "python",
   "pygments_lexer": "ipython3",
   "version": "3.9.13"
  },
  "orig_nbformat": 4,
  "vscode": {
   "interpreter": {
    "hash": "7e92413cb839d4a13ad15332d93b0a39c272b7450703b15d1757067b2f6b1868"
   }
  }
 },
 "nbformat": 4,
 "nbformat_minor": 2
}
